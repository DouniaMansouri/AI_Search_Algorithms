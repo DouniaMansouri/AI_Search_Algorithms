{
 "cells": [
  {
   "cell_type": "markdown",
   "metadata": {},
   "source": [
    "# Recherche de solutions"
   ]
  },
  {
   "cell_type": "markdown",
   "metadata": {},
   "source": [
    "CSI4506 Intelligence Artificielle  \n",
    "Automne 2020  \n",
    "Préparé par Joel Muteba, Julian Templeton et Caroline Barrière"
   ]
  },
  {
   "cell_type": "markdown",
   "metadata": {},
   "source": [
    "Ce notebook couvre la définition d'un espace d'états et des algorithmes de recherches.  Le code ci-bas est largement inspiré des ressources fournies avec le livre Artificial Intelligence, Foundations of Computational Agents (https://artint.info/2e/online.html).  En particulier, les ressources correspondant au chapitre 3, sur le thème de *Searching for Solutions*, se trouvent ici https://artint.info/AIPython/.\n",
    "\n",
    "Il existe même un livre de Python complémentaire (en anglais) qui founi des explications du code, ainsi qu’un premier chapitre intitulé Python pour AI où ils donnent quelques notions de base sur Python. Voir https://artint.info/AIPython/aipython.pdf\n",
    "\n",
    "Le code ci-bas est inspiré du code dans le fichier *searchProblem.py*.  Vous n'avez pas besoin de retourner à ce code.  Tout ce dont vous avez besoin pour votre travail est dans le présent notebook.  J'ai modifié le code du livre, et je le présente ici, par petits bouts, pour permettre à tous (surtout ceux et celles moins familiers avec python) de parcourir le code petit à petit. "
   ]
  },
  {
   "cell_type": "markdown",
   "metadata": {},
   "source": [
    "***DEVOIR***:  \n",
    "Parcourir le notebook, cellule par cellule.  \n",
    "Lorsque vous voyez **(TO DO)**, faites les tâches demandées.  Lorsque vous avez terminé, soumettez votre notebook.\n",
    "***"
   ]
  },
  {
   "cell_type": "markdown",
   "metadata": {},
   "source": [
    "**1. Definition d'un graphe dirigé**  \n",
    "Un graphe dirigé est construit à partir de noeuds et d'arcs.  La classe ci-bas permet de définir des arcs qui relient deux noeuds.  Les deux premiers paramètres donnent les deux noeuds.  Les deux autres paramètres donnnent le coût d'un arc (par défaut mis à 1) et une action d'un arc (par défaut à None).  La méthode *init* est le constructeur.  La méthode *assert* permet de valider que le coût d'un arc ne peut être négatif."
   ]
  },
  {
   "cell_type": "code",
   "execution_count": 3,
   "metadata": {},
   "outputs": [],
   "source": [
    "class Arc(object):\n",
    "    \"\"\"An arc has a from_node and a to_node node and a (non-negative) cost\"\"\"\n",
    "    \n",
    "    def __init__(self, from_node, to_node, cost=1, action=None):\n",
    "        assert cost >= 0, (\"Cost cannot be negative for\"+\n",
    "                           str(from_node)+\"->\"+str(to_node)+\", cost: \"+str(cost))\n",
    "        self.from_node = from_node\n",
    "        self.to_node = to_node\n",
    "        self.action = action\n",
    "        self.cost=cost\n",
    "\n",
    "    def __repr__(self):\n",
    "        \"\"\"string representation of an arc\"\"\"\n",
    "        if self.action:\n",
    "            return str(self.from_node)+\" --\"+str(self.action)+\"--> \"+str(self.to_node)\n",
    "        else:\n",
    "            return str(self.from_node)+\" --> \"+str(self.to_node)"
   ]
  },
  {
   "cell_type": "markdown",
   "metadata": {},
   "source": [
    "Voici un petit exemple de graphe dirigé acyclic (DAG -- Directed Acyclic Graph).\n",
    "        <img src=\"Image 1.png\" />\n",
    "        "
   ]
  },
  {
   "cell_type": "markdown",
   "metadata": {},
   "source": [
    "Nous pouvons construire un DAG avec la classe Arc ci-haut définie."
   ]
  },
  {
   "cell_type": "code",
   "execution_count": 4,
   "metadata": {},
   "outputs": [],
   "source": [
    "# Defining a small dag\n",
    "dag1 = [Arc('a','b'), Arc('b','c1'), Arc('c1','d'), Arc('b','c2'), Arc('c2','d')]"
   ]
  },
  {
   "cell_type": "code",
   "execution_count": 5,
   "metadata": {},
   "outputs": [
    {
     "name": "stdout",
     "output_type": "stream",
     "text": [
      "[a --> b, b --> c1, c1 --> d, b --> c2, c2 --> d]\n"
     ]
    }
   ],
   "source": [
    "# print the dag\n",
    "print(dag1)"
   ]
  },
  {
   "cell_type": "markdown",
   "metadata": {},
   "source": [
    "Aucune classe ne définit un noeud.  Pour l'instant, nous supposons qu'un noeud est une chaîne de caractères (String)."
   ]
  },
  {
   "cell_type": "markdown",
   "metadata": {},
   "source": [
    "**2. Espace de recherche (search space)**  \n",
    "Plutôt que de définir un graphe par un ensemble d'arcs, nous pouvons définir plus formellement une classe représentant un espace de recherhe qui contiendra non seulement une liste d'arcs, mais aussi une liste explicite de noeuds, un noeud initial, et un noeud final.  La classe contient aussi des méthodes pour obtenir de l'information sur les voisins d'un noeud, sur l'état d'un noeud (noeud final ou non).  La classe permet aussi de définir une fonction pour les heuristiques, ce que nous utiliserons plus tard."
   ]
  },
  {
   "cell_type": "code",
   "execution_count": 6,
   "metadata": {},
   "outputs": [],
   "source": [
    "class Search_problem_from_explicit_graph():\n",
    "    \"\"\"A search problem consists of:\n",
    "    * a list or set of nodes\n",
    "    * a list or set of arcs\n",
    "    * a start node\n",
    "    * a list or set of goal nodes\n",
    "    * a dictionary that maps each node into its heuristic value.\n",
    "    \"\"\"\n",
    "\n",
    "    def __init__(self, nodes, arcs, start=None, goals=set(), hmap={}):\n",
    "        self.neighs = {}\n",
    "        self.nodes = nodes\n",
    "        for node in nodes:\n",
    "            self.neighs[node]=[]\n",
    "        self.arcs = arcs\n",
    "        for arc in arcs:\n",
    "            self.neighs[arc.from_node].append(arc)\n",
    "        self.start = start\n",
    "        self.goals = goals\n",
    "        self.hmap = hmap\n",
    "\n",
    "    def start_node(self):\n",
    "        \"\"\"returns start node\"\"\"\n",
    "        return self.start\n",
    "    \n",
    "    def is_goal(self,node):\n",
    "        \"\"\"is True if node is a goal\"\"\"\n",
    "        return node in self.goals\n",
    "\n",
    "    def neighbors(self,node):\n",
    "        \"\"\"returns the neighbors of node\"\"\"\n",
    "        return self.neighs[node]\n",
    "\n",
    "    def heuristic(self,node):\n",
    "        \"\"\"Gives the heuristic value of node n.\n",
    "        Returns 0 if not overridden in the hmap.\"\"\"\n",
    "        if node in self.hmap:\n",
    "            return self.hmap[node]\n",
    "        else:\n",
    "            return 0\n",
    "        \n",
    "    def __repr__(self):\n",
    "        \"\"\"returns a string representation of the search problem\"\"\"\n",
    "        res=\"\"\n",
    "        for arc in self.arcs:\n",
    "            res += str(arc)+\".  \"\n",
    "        return res\n",
    "\n",
    "    def neighbor_nodes(self,node):\n",
    "        \"\"\"returns an iterator over the neighbors of node\"\"\"\n",
    "        return (path.to_node for path in self.neighs[node])\n"
   ]
  },
  {
   "cell_type": "markdown",
   "metadata": {},
   "source": [
    "Ci-bas, un exemple d'un espace de recherche à représenter. Le problème vise à aller du noeud 'a' au noeud 'h' (en jaune ci-bas). La définition de l'espace est présentée en dessous de l'image."
   ]
  },
  {
   "cell_type": "markdown",
   "metadata": {},
   "source": [
    "<img src=\"Image 2.png\"/>"
   ]
  },
  {
   "cell_type": "code",
   "execution_count": 7,
   "metadata": {},
   "outputs": [],
   "source": [
    "# Defining a search space\n",
    "problemSimple = Search_problem_from_explicit_graph(\n",
    "    {'a','b','c','d','e', 'f', 'g', 'h', 'j'},\n",
    "    [Arc('a','b',1), Arc('a','c',1), Arc('b','d',1), Arc('b','e',1),\n",
    "     Arc('c','f',1), Arc('c', 'g'), Arc('d','h',1), Arc('e','h',1),\n",
    "     Arc('f', 'e', 1), Arc('f','j',1)],\n",
    "    start = 'a',\n",
    "    goals = {'h'})"
   ]
  },
  {
   "cell_type": "code",
   "execution_count": 8,
   "metadata": {},
   "outputs": [
    {
     "name": "stdout",
     "output_type": "stream",
     "text": [
      "[a --> b, a --> c]\n"
     ]
    }
   ],
   "source": [
    "# Print some informations\n",
    "print(problemSimple.neighbors('a'))"
   ]
  },
  {
   "cell_type": "markdown",
   "metadata": {},
   "source": [
    "**(TO DO) Question 1 (2 points)**  \n",
    "Afficher le noeud initial de l'espace *problemSimple*.  Tester si le noeud 'g' est un noeud final.  Passer au travers de tous les noeuds définis dans *problemSimple* pour trouver lequel est un noeud final."
   ]
  },
  {
   "cell_type": "code",
   "execution_count": 9,
   "metadata": {},
   "outputs": [
    {
     "name": "stdout",
     "output_type": "stream",
     "text": [
      "The start node is: a\n",
      "The node g is NOT a goal node\n",
      "The goal node is: h\n"
     ]
    }
   ],
   "source": [
    "# Print the start node. \n",
    "print(\"The start node is: \" + problemSimple.start_node())\n",
    "# \n",
    "# Test if node 'g' is a goal node. \n",
    "if problemSimple.is_goal('g') :\n",
    "    print(\"The node g is a goal node\")\n",
    "else:\n",
    "    print(\"The node g is NOT a goal node\")\n",
    "# \n",
    "# Go through the list of nodes to find which one is the goal.\n",
    "\n",
    "for node in problemSimple.nodes:\n",
    "    if problemSimple.is_goal(node):\n",
    "        print(\"The goal node is: \" + node)\n"
   ]
  },
  {
   "cell_type": "markdown",
   "metadata": {},
   "source": [
    "**(TO DO) Question 2 (1 point)**  \n",
    "Compléter la définition de *problemTest* qui définit le graphe ci-bas. N'oubliez pas d'inscrire les coûts des arcs."
   ]
  },
  {
   "cell_type": "markdown",
   "metadata": {},
   "source": [
    "<img src=\"Image 3.png\"/>"
   ]
  },
  {
   "cell_type": "code",
   "execution_count": 10,
   "metadata": {},
   "outputs": [
    {
     "name": "stdout",
     "output_type": "stream",
     "text": [
      "a --> b.  a --> c.  b --> d.  b --> e.  c --> f.  c --> g.  d --> h.  e --> h.  f --> e.  f --> j.  j --> n.  h --> m.  h --> k.  m --> n.  \n"
     ]
    }
   ],
   "source": [
    "# Define Problem Test    \n",
    "problemTest = Search_problem_from_explicit_graph(\n",
    "    {'a', 'b', 'c', 'd', 'e', 'f', 'g', 'h', 'j', 'k', 'm', 'n'},\n",
    "    [Arc('a','b',1), Arc('a','c',2), Arc('b','d',3), Arc('b','e',4),\n",
    "     Arc('c','f',1), Arc('c', 'g',1), Arc('d','h',1), Arc('e','h',2),\n",
    "     Arc('f', 'e', 1), Arc('f','j',5), Arc('j','n',2), Arc('h','m',4), \n",
    "     Arc('h','k',1), Arc('m','n',3)],\n",
    "    start = 'a',\n",
    "    goals = {'n'}\n",
    ")\n",
    "print(problemTest)"
   ]
  },
  {
   "cell_type": "markdown",
   "metadata": {},
   "source": [
    "**3. Definition d'une solution comme un chemin.**  \n",
    "Une solution à un problème de recherche est un chemin, qui montre les noeuds visités pour se rendre du noeud initial au noeud final.  La classe ci-bas sert à définir un chemin. Pour l'instant, il faut voir qu'un chemin peut être un noeud (dans le cas du noeud initial) ou un chemin (définition récursive) suivi d'un arc. Ne vous inquiétez pas des détails d'implémentation.  Lorsque vos connaissances de python seront plus approfondies, vous comprendrez mieux."
   ]
  },
  {
   "cell_type": "code",
   "execution_count": 11,
   "metadata": {},
   "outputs": [],
   "source": [
    "# class to represent a path\n",
    "class Path(object):\n",
    "    \"\"\"A path is either a node or a path followed by an arc\"\"\"\n",
    "    \n",
    "    def __init__(self,initial,arc=None):\n",
    "        \"\"\"initial is either a node (in which case arc is None) or\n",
    "        a path (in which case arc is an object of type Arc)\"\"\"\n",
    "        self.initial = initial\n",
    "        self.arc=arc\n",
    "        if arc is None:\n",
    "            self.cost=0\n",
    "        else:\n",
    "            self.cost = initial.cost+arc.cost\n",
    "\n",
    "    def end(self):\n",
    "        \"\"\"returns the node at the end of the path\"\"\"\n",
    "        if self.arc is None:\n",
    "            return self.initial\n",
    "        else:\n",
    "            return self.arc.to_node\n",
    "\n",
    "    def nodes(self):\n",
    "        \"\"\"enumerates the nodes for the path.\n",
    "        This starts at the end and enumerates nodes in the path backwards.\"\"\"\n",
    "        current = self\n",
    "        while current.arc is not None:\n",
    "            yield current.arc.to_node\n",
    "            current = current.initial\n",
    "        yield current.initial\n",
    "\n",
    "    def initial_nodes(self):\n",
    "        \"\"\"enumerates the nodes for the path before the end node.\n",
    "        This starts at the end and enumerates nodes in the path backwards.\"\"\"\n",
    "        if self.arc is not None:\n",
    "            for nd in self.initial.nodes(): yield nd     # could be \"yield from\"\n",
    "        \n",
    "    def __repr__(self):\n",
    "        \"\"\"returns a string representation of a path\"\"\"\n",
    "        if self.arc is None:\n",
    "            return str(self.initial)\n",
    "        elif self.arc.action:\n",
    "            return (str(self.initial)+\"\\n   --\"+str(self.arc.action)\n",
    "                    +\"--> \"+str(self.arc.to_node))\n",
    "        else:\n",
    "            return str(self.initial)+\" --> \"+str(self.arc.to_node)"
   ]
  },
  {
   "cell_type": "markdown",
   "metadata": {},
   "source": [
    "**4.  Definition d'un algorithme de recherche générique**  \n",
    "Nous définissons une classe abstraite qui représente un algorithme de recherche générique.  La stratégie de gestion de la frontière sera raffinée dans les diverses classes plus spécifiques."
   ]
  },
  {
   "cell_type": "code",
   "execution_count": 12,
   "metadata": {
    "scrolled": true
   },
   "outputs": [],
   "source": [
    "class GenericSearcher():\n",
    "    \"\"\"returns a searcher for a problem.\n",
    "    Paths can be found by repeatedly calling search().\n",
    "    This does depth-first search unless overridden\n",
    "    \"\"\"\n",
    "    def __init__(self, problem):\n",
    "        \"\"\"creates a searcher from a problem\n",
    "        \"\"\"\n",
    "        self.problem = problem\n",
    "        self.initialize_frontier()\n",
    "\n",
    "    def initialize_frontier(self):\n",
    "        self.frontier = [Path(self.problem.start_node())]\n",
    "        \n",
    "    def empty_frontier(self):\n",
    "        return self.frontier == []\n",
    "       \n",
    "    ### change the add_to_frontier method --- THIS METHOD NEEDS TO BE IMPLEMENTED FOR DIFFERENT SEARCH STRATEGIES\n",
    "    def add_to_frontier(self,path):\n",
    "        raise NotImplementedError\n",
    "        \n",
    "    def search(self):\n",
    "        \"\"\"returns (next) path from the problem's start node\n",
    "        to a goal node. \n",
    "        Returns None if no path exists.\n",
    "        \"\"\"\n",
    "        \n",
    "        while not self.empty_frontier():\n",
    "            # The next node explored is selected\n",
    "            # It is implemented with a Pop, which actually removes from the end of the list\n",
    "            path = self.frontier.pop()            \n",
    "            print(path)\n",
    "            if self.problem.is_goal(path.end()):    # solution found\n",
    "                self.solution = path                # store the solution found\n",
    "                return path\n",
    "            else:\n",
    "                neighs = self.problem.neighbors(path.end())\n",
    "                for arc in neighs: # Loop over neighbors arcs\n",
    "                    self.add_to_frontier(Path(path,arc))              "
   ]
  },
  {
   "cell_type": "markdown",
   "metadata": {},
   "source": [
    "**5. Implémentation des recherches aveugles.**  \n",
    "En modifiant la méthode *add_to_frontier* de la recherche générique, nous pourrons implémenter les trois types de recherche aveugle vus en classe.  La recherche en profondeur, en largeur, et de moindre coût.  La recherche en largeur est implémentée ci-bas, et vous devrez implémenter les deux autres types de recherche aveugle. "
   ]
  },
  {
   "cell_type": "code",
   "execution_count": 13,
   "metadata": {},
   "outputs": [],
   "source": [
    "# (CB) extend the generic searcher to be a Breadth-first searcher.\n",
    "class BreadthFirstSearcher(GenericSearcher):\n",
    "\n",
    "    def __init__(self, problem):   \n",
    "        super().__init__(problem)\n",
    "\n",
    "    def add_to_frontier(self,path):\n",
    "        # breadth\n",
    "        self.frontier.insert(0,path)        # HERE, I insert in position 0, knowing that I want a FIFO"
   ]
  },
  {
   "cell_type": "code",
   "execution_count": 14,
   "metadata": {},
   "outputs": [
    {
     "name": "stdout",
     "output_type": "stream",
     "text": [
      "Exploring nodes:\n",
      "a\n",
      "a --> b\n",
      "a --> c\n",
      "a --> b --> d\n",
      "a --> b --> e\n",
      "a --> c --> f\n",
      "a --> c --> g\n",
      "a --> b --> d --> h\n",
      "a --> b --> e --> h\n",
      "a --> c --> f --> e\n",
      "a --> c --> f --> j\n",
      "a --> b --> d --> h --> m\n",
      "a --> b --> d --> h --> k\n",
      "a --> b --> e --> h --> m\n",
      "a --> b --> e --> h --> k\n",
      "a --> c --> f --> e --> h\n",
      "a --> c --> f --> j --> n\n",
      "Path found: a --> c --> f --> j --> n with a cost of 10\n"
     ]
    }
   ],
   "source": [
    "# Test breadth-first searcher\n",
    "searcherBreadth = BreadthFirstSearcher(problemTest)  \n",
    "print(\"Exploring nodes:\")\n",
    "foundPath = searcherBreadth.search();\n",
    "print('Path found: {} with a cost of {}'.format(foundPath, foundPath.cost))"
   ]
  },
  {
   "cell_type": "markdown",
   "metadata": {},
   "source": [
    "**(TO DO) Question 3 (2 points)**  \n",
    "Modifier la méthode *add_fo_frontier* pour obtenir une recherche en profondeur.  Tester votre implémentation. "
   ]
  },
  {
   "cell_type": "code",
   "execution_count": 15,
   "metadata": {},
   "outputs": [],
   "source": [
    "# Depth-first searcher\n",
    "class DepthFirstSearcher(GenericSearcher):\n",
    "    def __init__(self, problem):   \n",
    "        super().__init__(problem)\n",
    "\n",
    "    def add_to_frontier(self,path):\n",
    "        # To implement the frontier of the in depth algorithm, \n",
    "        # we need to append the newest path at the end of the list \n",
    "        self.frontier.append(path)"
   ]
  },
  {
   "cell_type": "code",
   "execution_count": 16,
   "metadata": {
    "scrolled": true
   },
   "outputs": [
    {
     "name": "stdout",
     "output_type": "stream",
     "text": [
      "Exploring nodes:\n",
      "a\n",
      "a --> c\n",
      "a --> c --> g\n",
      "a --> c --> f\n",
      "a --> c --> f --> j\n",
      "a --> c --> f --> j --> n\n",
      "Path found: a --> c --> f --> j --> n with a cost of 10\n"
     ]
    }
   ],
   "source": [
    "# Test\n",
    "searcherDepth = DepthFirstSearcher(problemTest)  \n",
    "print(\"Exploring nodes:\")\n",
    "foundPath = searcherDepth.search();\n",
    "print('Path found: {} with a cost of {}'.format(foundPath, foundPath.cost))"
   ]
  },
  {
   "cell_type": "markdown",
   "metadata": {},
   "source": [
    "**(TO DO) Question 4 (5 points)**  \n",
    "Modifier la méthode *add_fo_frontier* pour obtenir une recherche de moindre coût.  Tester votre implémentation. "
   ]
  },
  {
   "cell_type": "code",
   "execution_count": 17,
   "metadata": {},
   "outputs": [],
   "source": [
    "# Lowest Cost searcher\n",
    "class LowCostSearcher(GenericSearcher):\n",
    "    def __init__(self, problem):   \n",
    "        super().__init__(problem)\n",
    "\n",
    "    def add_to_frontier(self,path):\n",
    "        \n",
    "        #First, we insert the path at the beginning of the list, supposing it is the most costly path\n",
    "        self.frontier.insert(0,path)\n",
    "        \n",
    "        # For every node in the frontier, we compare the node with the given path\n",
    "        # If the path is lest costly, the path will take the place of the node in the list\n",
    "        # That way, the minimum is always at the end of the list\n",
    "        for node in self.frontier:\n",
    "            if node != path: # We don't want to compare the same node in the list\n",
    "                if path.cost < node.cost: # compare the entire path cost\n",
    "                    path_index = self.frontier.index(path)\n",
    "                    node_index = self.frontier.index(node)\n",
    "                    #switch places\n",
    "                    self.frontier[path_index], self.frontier[node_index] =  self.frontier[node_index],  self.frontier[path_index]\n",
    "                    \n",
    "\n",
    "  "
   ]
  },
  {
   "cell_type": "code",
   "execution_count": 18,
   "metadata": {
    "scrolled": false
   },
   "outputs": [
    {
     "name": "stdout",
     "output_type": "stream",
     "text": [
      "Exploring nodes:\n",
      "a\n",
      "a --> b\n",
      "a --> c\n",
      "a --> c --> f\n",
      "a --> c --> g\n",
      "a --> b --> d\n",
      "a --> c --> f --> e\n",
      "a --> b --> e\n",
      "a --> b --> d --> h\n",
      "a --> c --> f --> e --> h\n",
      "a --> b --> d --> h --> k\n",
      "a --> b --> e --> h\n",
      "a --> c --> f --> e --> h --> k\n",
      "a --> c --> f --> j\n",
      "a --> b --> e --> h --> k\n",
      "a --> b --> d --> h --> m\n",
      "a --> c --> f --> e --> h --> m\n",
      "a --> c --> f --> j --> n\n",
      "Path found: a --> c --> f --> j --> n with a cost of 10\n"
     ]
    }
   ],
   "source": [
    "# Test\n",
    "searcherLowCost = LowCostSearcher(problemTest)  \n",
    "print(\"Exploring nodes:\")\n",
    "foundPath = searcherLowCost.search();\n",
    "print('Path found: {} with a cost of {}'.format(foundPath, foundPath.cost))"
   ]
  },
  {
   "cell_type": "markdown",
   "metadata": {},
   "source": [
    "**6. Recherche heuristique**  \n",
    "Nous avons vu trois types de recherche heuristique en classe: locale (greedy), meilleur-chemin d'abord, et A*. Tout comme les recherches aveugles, nous pouvons les implémenter en modifiant la méthodes add_to_frontier de la recherche générique.\n",
    "\n",
    "Dans ce notebook, pour obtenir l'heuristique d'un nœud, vous devez appeler la fonction self.problem.heuristic (...) où vous passez le nœud pour lequel vous voulez l'heuristique. Un exemple de son utilisation peut être trouvé dans l'implémentation 6(b) de la recherche avec l'algorithme A*."
   ]
  },
  {
   "cell_type": "markdown",
   "metadata": {},
   "source": [
    "Supposons que la fonction heuristique donne une distance optimiste de chaque noeud au noeud 'n'.  Ces distances sont encodées dans un dictionnaire appelé *hmap*, dans la définition ci-bas, qui est une extension au problemTest définit précédemment."
   ]
  },
  {
   "cell_type": "code",
   "execution_count": 19,
   "metadata": {},
   "outputs": [],
   "source": [
    "problemTestWithHeuristics = Search_problem_from_explicit_graph(\n",
    "    {'a','b','c','d','e', 'f', 'g', 'h', 'j', 'k', 'm', 'n'},\n",
    "    [Arc('a','b', 1), Arc('a','c', 2), Arc('b','d',3), Arc('b','e',4),\n",
    "     Arc('c','f',1), Arc('c','g',1), Arc('d', 'h', 1), Arc('e','h',2), \n",
    "     Arc('f','e',1), Arc('f','j',5), Arc('h', 'k',1), Arc('h','m',4), \n",
    "     Arc('m','n',3), Arc('j','n',2)],\n",
    "    start = 'a',\n",
    "    goals = {'n'},\n",
    "     hmap = {'a':15, 'b':3, 'c':5, 'd':6, 'e':3, 'f':1, 'g':2, 'h':4, 'j':9, 'k':3, 'm':2, 'n':0})"
   ]
  },
  {
   "cell_type": "markdown",
   "metadata": {},
   "source": [
    "***6 (a). Recherche heuristique locale***    \n",
    "Comme discuté dans le cours, il existe deux types d'algorithmes de recherche heuristique. Le premier type est celui des recherches heuristiques locales. L'algorithme de recherche heuristique locale discuté en classe est la recherche Greedy (Greedy Search), qui suppose une vision limitée d'un problème.\n",
    "\n",
    "**(TO DO) Question 5 - 5 points** <br> \n",
    "Pour votre premier algorithme heuristique, implémentez et testez l'algorithme de recherche heuristique locale Greedy Search dans les cellules ci-dessous. Rappelez-vous que l’algorithme Greedy Search examine les coûts locaux. Ainsi, cet algorithme devra revenir en arrière s’il atteind une impasse. Cela signifie que si un chemin d’accès entraîne une impasse, l’algorithme de recherche doit poursuivre la recherche à partir du nœud précédent dans ce chemin."
   ]
  },
  {
   "cell_type": "code",
   "execution_count": 20,
   "metadata": {},
   "outputs": [],
   "source": [
    "# Greedy searcher\n",
    "class GreedySearcher(GenericSearcher):\n",
    "    \"\"\"returns a searcher for a problem.\n",
    "    Paths can be found by repeatedly calling search().\n",
    "    \"\"\"\n",
    "    def __init__(self, problem):   \n",
    "        super().__init__(problem)\n",
    "    \n",
    "    def add_to_frontier(self,path):\n",
    "\n",
    "        # First, insert the path at the beginning of the list, we suppose it's the most costly path for the algorithm to take\n",
    "        self.frontier.insert(0, path)\n",
    "        neighs_path = self.problem.neighbors(path.end()) # Define the path neighbors\n",
    "\n",
    "        # For every node in the frontier, we compare the node with the given path\n",
    "        # Here, the algorithm is looking forward -- which means it will take only the cost of the node forward in the diagram\n",
    "        # This algorithm normally doesn't have a frontier -- so I used recursivity to implement it\n",
    "        # Bascially, I call the add to frontier path for every neighbord of a path that is lest costly than a node\n",
    "        # It will try to find a way to the end node -- if it is not a goal node, the algorithm will backtrack and start again\n",
    "        for node in self.frontier: \n",
    "            if node != path:\n",
    "                if path.arc.cost < node.arc.cost: # Compare arc cost (the cost of the following node)\n",
    "                    # if the path has neightbors, it will call the add to frontier function until it arrives at an end node \n",
    "                    if neighs_path: \n",
    "                        for arc in neighs_path: # Loop over neighbors arcs to find a solution\n",
    "                            self.add_to_frontier(Path(path,arc))  #call the add to frontier again\n",
    "                        break; # get out of the loop when it finds a solution   \n",
    "                        \n",
    "\n",
    "                "
   ]
  },
  {
   "cell_type": "code",
   "execution_count": 21,
   "metadata": {
    "scrolled": false
   },
   "outputs": [
    {
     "name": "stdout",
     "output_type": "stream",
     "text": [
      "Exploring nodes:\n",
      "a\n",
      "a --> b\n",
      "a --> c\n",
      "a --> b --> d\n",
      "a --> b --> e\n",
      "a --> c --> f\n",
      "a --> c --> f --> e\n",
      "a --> c --> f --> e --> h\n",
      "a --> c --> f --> e --> h --> k\n",
      "a --> c --> f --> e --> h --> m\n",
      "a --> c --> f --> j\n",
      "a --> c --> g\n",
      "a --> b --> d --> h\n",
      "a --> b --> d --> h --> k\n",
      "a --> b --> d --> h --> m\n",
      "a --> b --> d --> h --> m --> n\n",
      "Path found: a --> b --> d --> h --> m --> n with a cost of 12\n"
     ]
    }
   ],
   "source": [
    "# Test\n",
    "searcherGreedy = GreedySearcher(problemTestWithHeuristics)  \n",
    "print(\"Exploring nodes:\")\n",
    "foundPath = searcherGreedy.search();\n",
    "print('Path found: {} with a cost of {}'.format(foundPath, foundPath.cost))"
   ]
  },
  {
   "cell_type": "markdown",
   "metadata": {},
   "source": [
    "***6 (b). Recherche heuristique globale***    \n",
    "Le deuxième type de recherche heuristique est la recherche heuristique globale. L'algorithme de recherche A* et l'algorithme de recherche Best-first sont tous deux des algorithmes de recherche heuristique globale.\n",
    "\n",
    "Avant d'implémenter l'algorithme de recherche Best-first, vous trouverez ci-dessous l'algorithme de recherche A * à utiliser comme référence."
   ]
  },
  {
   "cell_type": "code",
   "execution_count": 22,
   "metadata": {},
   "outputs": [],
   "source": [
    "class AStarSearcher(GenericSearcher):\n",
    "    \"\"\"returns a searcher for a problem.\n",
    "    Paths can be found by repeatedly calling search().\n",
    "    \"\"\"\n",
    "    def __init__(self, problem):   \n",
    "        super().__init__(problem)\n",
    "\n",
    "    def getCostKey(self, path):\n",
    "        return (path.cost + self.problem.heuristic(path.end()))\n",
    "    \n",
    "    def add_to_frontier(self,path):\n",
    "        \"\"\"add path to the frontier with the appropriate cost\"\"\"\n",
    "        # add path to the frontier \n",
    "        self.frontier.append(path)\n",
    "        # sort frontier so that all the elements are ordered from most costly to least costly\n",
    "        self.frontier.sort(key=self.getCostKey, reverse=True)"
   ]
  },
  {
   "cell_type": "code",
   "execution_count": 23,
   "metadata": {},
   "outputs": [
    {
     "name": "stdout",
     "output_type": "stream",
     "text": [
      "Exploring nodes:\n",
      "a\n",
      "a --> b\n",
      "a --> c\n",
      "a --> c --> f\n",
      "a --> c --> g\n",
      "a --> c --> f --> e\n",
      "a --> b --> e\n",
      "a --> c --> f --> e --> h\n",
      "a --> c --> f --> e --> h --> k\n",
      "a --> b --> d\n",
      "a --> b --> d --> h\n",
      "a --> b --> d --> h --> k\n",
      "a --> b --> d --> h --> m\n",
      "a --> b --> e --> h\n",
      "a --> b --> e --> h --> k\n",
      "a --> b --> d --> h --> m --> n\n",
      "Path found: a --> b --> d --> h --> m --> n with a cost of 12\n"
     ]
    }
   ],
   "source": [
    "# Test\n",
    "searcherAStar = AStarSearcher(problemTestWithHeuristics)  \n",
    "print(\"Exploring nodes:\")\n",
    "foundPath = searcherAStar.search();\n",
    "print('Path found: {} with a cost of {}'.format(foundPath, foundPath.cost))"
   ]
  },
  {
   "cell_type": "markdown",
   "metadata": {},
   "source": [
    "**(TO DO) Question 6 - 5 points** <br> \n",
    "En vous servant de l'algorithme de recherche A* implémenté ci-dessus, implémentez et testez l'algorithme best-first search."
   ]
  },
  {
   "cell_type": "code",
   "execution_count": 24,
   "metadata": {},
   "outputs": [],
   "source": [
    "# Best first searcher\n",
    "class BestFirstSearcher(GenericSearcher):\n",
    "    \"\"\"returns a searcher for a problem.\n",
    "    Paths can be found by repeatedly calling search().\n",
    "    \"\"\"\n",
    "    def __init__(self, problem):   \n",
    "        super().__init__(problem)\n",
    "        \n",
    "    def getHeuristicKey(self, path): #this function returns the heuristic key to sort the list\n",
    "        return (self.problem.heuristic(path.end()))\n",
    "    \n",
    "    def add_to_frontier(self,path):\n",
    "        # append the path at the end of the list\n",
    "        self.frontier.append(path)\n",
    "        # sort frontier so that all the elements are ordered from most costly to least costly using the heuristic cost\n",
    "        self.frontier.sort(key=self.getHeuristicKey, reverse=True)"
   ]
  },
  {
   "cell_type": "code",
   "execution_count": 25,
   "metadata": {},
   "outputs": [
    {
     "name": "stdout",
     "output_type": "stream",
     "text": [
      "Exploring nodes:\n",
      "a\n",
      "a --> b\n",
      "a --> b --> e\n",
      "a --> b --> e --> h\n",
      "a --> b --> e --> h --> m\n",
      "a --> b --> e --> h --> m --> n\n",
      "Path found: a --> b --> e --> h --> m --> n with a cost of 14\n"
     ]
    }
   ],
   "source": [
    "# Test\n",
    "searcherBestFirst = BestFirstSearcher(problemTestWithHeuristics)  \n",
    "print(\"Exploring nodes:\")\n",
    "foundPath = searcherBestFirst.search();\n",
    "print('Path found: {} with a cost of {}'.format(foundPath, foundPath.cost))"
   ]
  },
  {
   "cell_type": "markdown",
   "metadata": {},
   "source": [
    "***SIGNATURE:***\n",
    "My name is Dounia Mansouri.\n",
    "I certify being the author of this assignment."
   ]
  }
 ],
 "metadata": {
  "kernelspec": {
   "display_name": "Python 3",
   "language": "python",
   "name": "python3"
  },
  "language_info": {
   "codemirror_mode": {
    "name": "ipython",
    "version": 3
   },
   "file_extension": ".py",
   "mimetype": "text/x-python",
   "name": "python",
   "nbconvert_exporter": "python",
   "pygments_lexer": "ipython3",
   "version": "3.8.5"
  }
 },
 "nbformat": 4,
 "nbformat_minor": 2
}
